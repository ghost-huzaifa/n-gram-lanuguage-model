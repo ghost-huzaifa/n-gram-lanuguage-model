{
 "cells": [
  {
   "cell_type": "markdown",
   "metadata": {},
   "source": [
    "# N-Gram Language Model\n",
    "\n",
    "## Part 1: Given a sentence, calculate its probability\n",
    "\n",
    "### N-gram\n",
    "P(“its water is so transparent”) =  P(its) × P(water|its) ×  P(is|its water) ×  P(so|its water is) ×  P(transparent|its water is so)\n",
    "### Bigram\n",
    "P(“its water is so transparent”) =  P(its) × P(water|its) ×  P(is|water) ×  P(so|is) ×  P(transparent|so)\n",
    "### Trigram\n",
    "P(“its water is so transparent”) =  P(its) × P(water|its) ×  P(is|its water) ×  P(so|water is) ×  P(transparent|is so)"
   ]
  },
  {
   "cell_type": "code",
   "execution_count": null,
   "metadata": {},
   "outputs": [
    {
     "name": "stdout",
     "output_type": "stream",
     "text": [
      "{'this': {(): 1, ('is', 'a', 'corpus'): 1}, 'is': {('this',): 1}, 'a': {('this', 'is'): 1, ('corpus', 'this', 'has'): 1}, 'corpus': {('this', 'is', 'a'): 1}, 'has': {('a', 'corpus', 'this'): 1}, 'lot': {('this', 'has', 'a'): 1}, 'of': {('has', 'a', 'lot'): 1}, 'words': {('a', 'lot', 'of'): 1}, 'in': {('lot', 'of', 'words'): 1}, 'it': {('of', 'words', 'in'): 1}}\n"
     ]
    }
   ],
   "source": [
    "corpus = \"this is a corpus this has a lot of words in it\"\n",
    "words_lookup = {}\n",
    "n = 2  # bigram\n",
    "tokens = corpus.split(\" \")\n",
    "\n",
    "context_window = []\n",
    "\n",
    "for word in tokens:\n",
    "    context_tuple = tuple(context_window)\n",
    "    if word not in words_lookup:\n",
    "        words_lookup[word] = {}\n",
    "    \n",
    "    if context_tuple in words_lookup[word]:\n",
    "        words_lookup[word][context_tuple] += 1\n",
    "    else:\n",
    "        words_lookup[word][context_tuple] = 1\n",
    "    \n",
    "    if len(context_window) == n:\n",
    "        context_window.pop(0)\n",
    "    context_window.append(word)\n",
    "\n",
    "print(words_lookup)"
   ]
  }
 ],
 "metadata": {
  "kernelspec": {
   "display_name": "Python 3",
   "language": "python",
   "name": "python3"
  },
  "language_info": {
   "codemirror_mode": {
    "name": "ipython",
    "version": 3
   },
   "file_extension": ".py",
   "mimetype": "text/x-python",
   "name": "python",
   "nbconvert_exporter": "python",
   "pygments_lexer": "ipython3",
   "version": "3.13.2"
  }
 },
 "nbformat": 4,
 "nbformat_minor": 2
}
