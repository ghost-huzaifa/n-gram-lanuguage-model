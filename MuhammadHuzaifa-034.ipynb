{
 "cells": [
  {
   "cell_type": "markdown",
   "metadata": {},
   "source": [
    "# N-Gram Language Model\n",
    "\n",
    "## Part 1: Given a sentence, calculate its probability\n",
    "\n",
    "### N-gram\n",
    "P(“its water is so transparent”) =  P(its) × P(water|its) ×  P(is|its water) ×  P(so|its water is) ×  P(transparent|its water is so)\n",
    "### Bigram\n",
    "P(“its water is so transparent”) =  P(its) × P(water|its) ×  P(is|water) ×  P(so|is) ×  P(transparent|so)\n",
    "### Trigram\n",
    "P(“its water is so transparent”) =  P(its) × P(water|its) ×  P(is|its water) ×  P(so|water is) ×  P(transparent|is so)"
   ]
  },
  {
   "cell_type": "markdown",
   "metadata": {},
   "source": [
    "- First Make a basic lookup table and n-1 gram count for each word against its context window"
   ]
  },
  {
   "cell_type": "code",
   "execution_count": 33,
   "metadata": {},
   "outputs": [],
   "source": [
    "# Muhammad Huzaifa\n",
    "# Roll No: 03-3-1-034-2022\n",
    "\n",
    "corpus = \"<s> Ibrahim I do I like </s> <s> Ibrahim I am </s> <s> I do like Ibrahim I am </s>\"\n",
    "\n",
    "# Set n-gram limit\n",
    "n = 2 # bigram"
   ]
  },
  {
   "cell_type": "code",
   "execution_count": 49,
   "metadata": {},
   "outputs": [
    {
     "name": "stdout",
     "output_type": "stream",
     "text": [
      "{'<s>': {(): 1, ('</s>',): 2}, 'Ibrahim': {('<s>',): 2, ('like',): 1}, 'I': {('Ibrahim',): 3, ('do',): 1, ('<s>',): 1}, 'do': {('I',): 2}, 'like': {('I',): 1, ('do',): 1}, '</s>': {('like',): 1, ('am',): 2}, 'am': {('I',): 2}}\n",
      "{(): 1, ('<s>',): 3, ('Ibrahim',): 3, ('I',): 5, ('do',): 2, ('like',): 2, ('</s>',): 2, ('am',): 2}\n"
     ]
    }
   ],
   "source": [
    "training_tokens = corpus.split(\" \")\n",
    "vocablary_count = len(set(training_tokens))\n",
    "\n",
    "words_lookup = {}\n",
    "ngram_count = {}\n",
    "context_window = []\n",
    "\n",
    "for word in training_tokens:\n",
    "    context_tuple = tuple(context_window)\n",
    "\n",
    "    if (context_tuple not in ngram_count):\n",
    "        ngram_count[context_tuple] = 0\n",
    "    ngram_count[context_tuple] += 1\n",
    "    if word not in words_lookup:\n",
    "        words_lookup[word] = {}\n",
    "    \n",
    "    if context_tuple in words_lookup[word]:\n",
    "        words_lookup[word][context_tuple] += 1\n",
    "    else:\n",
    "        words_lookup[word][context_tuple] = 1\n",
    "    \n",
    "    if len(context_window) == n - 1:\n",
    "        context_window.pop(0)\n",
    "    context_window.append(word)\n",
    "\n",
    "print(words_lookup)\n",
    "print(ngram_count)"
   ]
  },
  {
   "cell_type": "markdown",
   "metadata": {},
   "source": [
    "- For zero count words add smoothening (for now, we're using add 1 smoothing but Kneser-Ney Smoothing would be better choice if implemented)"
   ]
  },
  {
   "cell_type": "code",
   "execution_count": 50,
   "metadata": {},
   "outputs": [
    {
     "name": "stdout",
     "output_type": "stream",
     "text": [
      "{'<s>': {(): 2, ('</s>',): 3, ('<s>',): 1, ('Ibrahim',): 1, ('I',): 1, ('do',): 1, ('like',): 1, ('am',): 1}, 'Ibrahim': {('<s>',): 3, ('like',): 2, (): 1, ('Ibrahim',): 1, ('I',): 1, ('do',): 1, ('</s>',): 1, ('am',): 1}, 'I': {('Ibrahim',): 4, ('do',): 2, ('<s>',): 2, (): 1, ('I',): 1, ('like',): 1, ('</s>',): 1, ('am',): 1}, 'do': {('I',): 3, (): 1, ('<s>',): 1, ('Ibrahim',): 1, ('do',): 1, ('like',): 1, ('</s>',): 1, ('am',): 1}, 'like': {('I',): 2, ('do',): 2, (): 1, ('<s>',): 1, ('Ibrahim',): 1, ('like',): 1, ('</s>',): 1, ('am',): 1}, '</s>': {('like',): 2, ('am',): 3, (): 1, ('<s>',): 1, ('Ibrahim',): 1, ('I',): 1, ('do',): 1, ('</s>',): 1}, 'am': {('I',): 3, (): 1, ('<s>',): 1, ('Ibrahim',): 1, ('do',): 1, ('like',): 1, ('</s>',): 1, ('am',): 1}}\n"
     ]
    }
   ],
   "source": [
    "smoothened_lookup = words_lookup.copy()\n",
    "\n",
    "for word in smoothened_lookup:\n",
    "    for context in ngram_count:\n",
    "        if context not in smoothened_lookup[word]:\n",
    "            smoothened_lookup[word][context] = 1\n",
    "        else:\n",
    "            smoothened_lookup[word][context] += 1\n",
    "\n",
    "print(smoothened_lookup)"
   ]
  },
  {
   "cell_type": "markdown",
   "metadata": {},
   "source": [
    "- Now Normalize the counts with n-1 gram counts!"
   ]
  },
  {
   "attachments": {
    "image.png": {
     "image/png": "[encoded data removed]"
    }
   },
   "cell_type": "markdown",
   "metadata": {},
   "source": [
    "![image.png](attachment:image.png)"
   ]
  },
  {
   "cell_type": "code",
   "execution_count": 51,
   "metadata": {},
   "outputs": [
    {
     "name": "stdout",
     "output_type": "stream",
     "text": [
      "{'<s>': {(): 0.25, ('</s>',): 0.3333333333333333, ('<s>',): 0.1, ('Ibrahim',): 0.1, ('I',): 0.08333333333333333, ('do',): 0.1111111111111111, ('like',): 0.1111111111111111, ('am',): 0.1111111111111111}, 'Ibrahim': {('<s>',): 0.3, ('like',): 0.2222222222222222, (): 0.125, ('Ibrahim',): 0.1, ('I',): 0.08333333333333333, ('do',): 0.1111111111111111, ('</s>',): 0.1111111111111111, ('am',): 0.1111111111111111}, 'I': {('Ibrahim',): 0.4, ('do',): 0.2222222222222222, ('<s>',): 0.2, (): 0.125, ('I',): 0.08333333333333333, ('like',): 0.1111111111111111, ('</s>',): 0.1111111111111111, ('am',): 0.1111111111111111}, 'do': {('I',): 0.25, (): 0.125, ('<s>',): 0.1, ('Ibrahim',): 0.1, ('do',): 0.1111111111111111, ('like',): 0.1111111111111111, ('</s>',): 0.1111111111111111, ('am',): 0.1111111111111111}, 'like': {('I',): 0.16666666666666666, ('do',): 0.2222222222222222, (): 0.125, ('<s>',): 0.1, ('Ibrahim',): 0.1, ('like',): 0.1111111111111111, ('</s>',): 0.1111111111111111, ('am',): 0.1111111111111111}, '</s>': {('like',): 0.2222222222222222, ('am',): 0.3333333333333333, (): 0.125, ('<s>',): 0.1, ('Ibrahim',): 0.1, ('I',): 0.08333333333333333, ('do',): 0.1111111111111111, ('</s>',): 0.1111111111111111}, 'am': {('I',): 0.25, (): 0.125, ('<s>',): 0.1, ('Ibrahim',): 0.1, ('do',): 0.1111111111111111, ('like',): 0.1111111111111111, ('</s>',): 0.1111111111111111, ('am',): 0.1111111111111111}}\n"
     ]
    }
   ],
   "source": [
    "normalize_lookup = smoothened_lookup.copy()\n",
    "\n",
    "for word in normalize_lookup:\n",
    "    for context in normalize_lookup[word]:\n",
    "        normalize_lookup[word][context] /= ngram_count[context] + vocablary_count\n",
    "\n",
    "print (normalize_lookup)\n",
    "        "
   ]
  },
  {
   "cell_type": "markdown",
   "metadata": {},
   "source": [
    "- Now that we have our probability tables, we can now predict the probability of a given sentence"
   ]
  },
  {
   "cell_type": "code",
   "execution_count": 52,
   "metadata": {},
   "outputs": [
    {
     "name": "stdout",
     "output_type": "stream",
     "text": [
      "The probability of given sentence is: 0.0075\n"
     ]
    }
   ],
   "source": [
    "sentence = \"<s> Ibrahim I am\"\n",
    "\n",
    "tokens = [token for token in sentence.split(' ') if token]\n",
    "\n",
    "probability = 1.0\n",
    "context_window = []\n",
    "\n",
    "for word in tokens:\n",
    "    context_tuple = tuple(context_window)\n",
    "    \n",
    "    probability *= normalize_lookup[word].get(context_tuple, 0)\n",
    "\n",
    "    # slide context_window\n",
    "    if len(context_window) == n - 1:\n",
    "        context_window.pop(0)\n",
    "    context_window.append(word)\n",
    "\n",
    "print(\"The probability of given sentence is: \" + str(probability))"
   ]
  }
 ],
 "metadata": {
  "kernelspec": {
   "display_name": "Python 3",
   "language": "python",
   "name": "python3"
  },
  "language_info": {
   "codemirror_mode": {
    "name": "ipython",
    "version": 3
   },
   "file_extension": ".py",
   "mimetype": "text/x-python",
   "name": "python",
   "nbconvert_exporter": "python",
   "pygments_lexer": "ipython3",
   "version": "3.13.2"
  }
 },
 "nbformat": 4,
 "nbformat_minor": 2
}
